{
 "cells": [
  {
   "cell_type": "code",
   "execution_count": 2,
   "id": "39d74c2b",
   "metadata": {},
   "outputs": [
    {
     "data": {
      "application/javascript": [
       "IPython.notebook.set_autosave_interval(0)"
      ]
     },
     "metadata": {},
     "output_type": "display_data"
    },
    {
     "name": "stdout",
     "output_type": "stream",
     "text": [
      "Autosave disabled\n"
     ]
    }
   ],
   "source": [
    "%autosave 0"
   ]
  },
  {
   "cell_type": "code",
   "execution_count": 3,
   "id": "485104fa",
   "metadata": {},
   "outputs": [],
   "source": [
    "\n",
    "import requests\n"
   ]
  },
  {
   "cell_type": "code",
   "execution_count": 9,
   "id": "dbcf4bc0",
   "metadata": {},
   "outputs": [],
   "source": [
    "url='http://localhost:9696/predict'"
   ]
  },
  {
   "cell_type": "code",
   "execution_count": 10,
   "id": "bdcdbc95",
   "metadata": {},
   "outputs": [],
   "source": [
    "customer={\n",
    "    \"gender\": \"female\",\n",
    "    \"seniorcitizen\": 0,\n",
    "    \"partner\": \"yes\",\n",
    "    \"dependents\": \"yes\",\n",
    "    \"phoneservice\": \"yes\",\n",
    "    \"multiplelines\": \"yes\",\n",
    "    \"internetservice\": \"fiber_optic\",\n",
    "    \"onlinebackup\": \"no\",\n",
    "    \"deviceprotection\": \"yes\",\n",
    "    \"techsupport\": \"no\",\n",
    "    \"streamingtv\": \"yes\",\n",
    "    \"streamingmovies\": \"yes\",\n",
    "    \"contract\": \"month-to-month\",\n",
    "    \"paperlessbilling\": \"yes\",\n",
    "    \"paymentmethod\": \"electronic_check\",\n",
    "    \"tenure\": 1,\n",
    "    \"monthlycharges\": 104.2,\n",
    "    \"totalcharges\": 1743.5  \n",
    " }"
   ]
  },
  {
   "cell_type": "code",
   "execution_count": 21,
   "id": "d612a728",
   "metadata": {},
   "outputs": [],
   "source": [
    "response=requests.post(url,json=customer).json()"
   ]
  },
  {
   "cell_type": "code",
   "execution_count": 22,
   "id": "4df69d96",
   "metadata": {},
   "outputs": [
    {
     "name": "stdout",
     "output_type": "stream",
     "text": [
      "sending promo\n"
     ]
    }
   ],
   "source": [
    "if response['churn']==True:\n",
    "    print('sending promo')\n",
    "else:\n",
    "    print('Not')"
   ]
  },
  {
   "cell_type": "code",
   "execution_count": null,
   "id": "8a6e5e5f",
   "metadata": {},
   "outputs": [],
   "source": []
  }
 ],
 "metadata": {
  "kernelspec": {
   "display_name": "Python 3 (ipykernel)",
   "language": "python",
   "name": "python3"
  },
  "language_info": {
   "codemirror_mode": {
    "name": "ipython",
    "version": 3
   },
   "file_extension": ".py",
   "mimetype": "text/x-python",
   "name": "python",
   "nbconvert_exporter": "python",
   "pygments_lexer": "ipython3",
   "version": "3.9.7"
  }
 },
 "nbformat": 4,
 "nbformat_minor": 5
}
